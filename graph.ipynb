{
 "cells": [
  {
   "cell_type": "code",
   "execution_count": 1,
   "metadata": {},
   "outputs": [],
   "source": [
    "# class ActNode:\n",
    "#     \"\"\"actions as nodes\"\"\"\n",
    "#     def __init__(self,name,pre=None,eff=None):\n",
    "#         self.name = name\n",
    "#         self.pre = pre if pre is not None else {}\n",
    "#         self.eff = eff if eff is not None else {}\n",
    "#         self.link_to={}\n",
    "#         # a dictionary with keys representing the to action and values representing weight\n",
    "#     def add_linkneighbor(self, action):\n",
    "#         if action in self.link_to:\n",
    "#             self.link_to[action] += 1\n",
    "#         else:\n",
    "#             self.link_to[action] = 1\n",
    "\n",
    "\n",
    "# class Digraph:\n",
    "#     def __init__(self):\n",
    "#         self.actions={}\n",
    "#         self.lastaction=None\n",
    "#     def add_newaction(self,name,pre=None,eff=None):\n",
    "#         if not self.actions:\n",
    "#             #the actions is empty\n",
    "#             self.actions[name] = ActNode(name,pre,eff)\n",
    "#             self.lastaction = self.actions[name]\n",
    "#         else:\n",
    "#             if name not in self.actions:\n",
    "#                 self.actions[name] = ActNode(name, pre, eff)\n",
    "            \n",
    "#             self.lastaction.add_linkneighbor(self.actions[name])\n",
    "#             self.lastaction = self.actions[name]\n",
    "\n",
    "               \n",
    "            \n",
    "            \n",
    "            \n",
    "        \n",
    "    \n",
    "    "
   ]
  },
  {
   "cell_type": "code",
   "execution_count": 4,
   "metadata": {},
   "outputs": [
    {
     "data": {
      "image/png": "[encoded data removed]",
      "text/plain": [
       "<Figure size 640x480 with 1 Axes>"
      ]
     },
     "metadata": {},
     "output_type": "display_data"
    }
   ],
   "source": [
    "import networkx as nx\n",
    "import matplotlib.pyplot as plt\n",
    "\n",
    "\n",
    "class ActNode:\n",
    "    \"\"\" Actions as nodes \"\"\"\n",
    "\n",
    "    def __init__(self, name, pre=None, eff=None):\n",
    "        self.name = name\n",
    "        self.pre = pre if pre is not None else {}\n",
    "        self.eff = eff if eff is not None else {}\n",
    "        # A dictionary with keys representing the to action and values representing weight\n",
    "        self.link_to = {}\n",
    "\n",
    "    def add_linkneighbor(self, action):\n",
    "        if action in self.link_to:\n",
    "            self.link_to[action] += 1\n",
    "        else:\n",
    "            self.link_to[action] = 1\n",
    "\n",
    "\n",
    "class Digraph:\n",
    "    def __init__(self):\n",
    "        self.actions = {}\n",
    "        self.lastaction = None\n",
    "\n",
    "    def add_newaction(self, name, pre=None, eff=None):\n",
    "        if not self.actions:\n",
    "            self.actions[name] = ActNode(name, pre, eff)\n",
    "            self.lastaction = self.actions[name]\n",
    "        else:\n",
    "            if name not in self.actions:\n",
    "                self.actions[name] = ActNode(name, pre, eff)\n",
    "            self.lastaction.add_linkneighbor(name)\n",
    "            self.lastaction = self.actions[name]\n",
    "\n",
    "    def visualize_graph(self):\n",
    "        G = nx.DiGraph()\n",
    "        for action_name, action_node in self.actions.items():\n",
    "            G.add_node(action_name)\n",
    "            for neighbor, weight in action_node.link_to.items():\n",
    "                G.add_edge(action_name, neighbor, weight=weight)\n",
    "\n",
    "        pos = nx.spring_layout(G)  # positions for all nodes\n",
    "        nx.draw(G, pos, with_labels=True, node_color='skyblue',\n",
    "                node_size=2000, edge_color='black', linewidths=1, font_size=15)\n",
    "        edge_labels = nx.get_edge_attributes(G, 'weight')\n",
    "        nx.draw_networkx_edge_labels(G, pos, edge_labels=edge_labels)\n",
    "        plt.show()\n",
    "\n",
    "\n",
    "# Example usage\n",
    "graph = Digraph()\n",
    "graph.add_newaction(\"Start\")\n",
    "graph.add_newaction(\"Middle\")\n",
    "graph.add_newaction(\"End\")\n",
    "\n",
    "graph.visualize_graph()"
   ]
  }
 ],
 "metadata": {
  "kernelspec": {
   "display_name": "base",
   "language": "python",
   "name": "python3"
  },
  "language_info": {
   "codemirror_mode": {
    "name": "ipython",
    "version": 3
   },
   "file_extension": ".py",
   "mimetype": "text/x-python",
   "name": "python",
   "nbconvert_exporter": "python",
   "pygments_lexer": "ipython3",
   "version": "3.11.4"
  }
 },
 "nbformat": 4,
 "nbformat_minor": 2
}
