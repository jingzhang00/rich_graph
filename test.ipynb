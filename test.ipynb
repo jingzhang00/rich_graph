{
 "cells": [
  {
   "cell_type": "code",
   "execution_count": 1,
   "metadata": {},
   "outputs": [
    {
     "name": "stdout",
     "output_type": "stream",
     "text": [
      "Vertex 0:  -> 2 -> 2 -> 1 -> 4\n",
      "Vertex 1:  -> 7 -> 5 -> 3 -> 4 -> 3 -> 3\n",
      "Vertex 2:  -> 0 -> 0 -> 3 -> 1 -> 4 -> 0\n",
      "Vertex 3:  -> 4 -> 6\n",
      "Vertex 4:  -> 1\n",
      "Vertex 5:  -> 7 -> 0 -> 1 -> 4 -> 6\n",
      "Vertex 6:  -> 3 -> 5 -> 1 -> 1 -> 5\n",
      "Vertex 7:  -> 0 -> 4 -> 6\n"
     ]
    }
   ],
   "source": [
    "import random\n",
    "\n",
    "\n",
    "class Graph:\n",
    "    \"\"\" Class to represent a graph using an adjacency list. \"\"\"\n",
    "\n",
    "    def __init__(self, num_vertices):\n",
    "        self.num_vertices = num_vertices\n",
    "        self.adj_list = {i: [] for i in range(num_vertices)}\n",
    "\n",
    "    def add_edge(self, src, dest):\n",
    "        \"\"\" Add an edge from src to dest. A list is used to represent our adjacency list. \"\"\"\n",
    "        self.adj_list[src].append(dest)\n",
    "\n",
    "    def print_graph(self):\n",
    "        \"\"\" Function to print the graph representation. \"\"\"\n",
    "        for i in range(self.num_vertices):\n",
    "            print(f\"Vertex {i}: \", end=\"\")\n",
    "            for dest in self.adj_list[i]:\n",
    "                print(f\" -> {dest}\", end=\"\")\n",
    "            print()  # for new line\n",
    "\n",
    "\n",
    "# Example usage:\n",
    "# Create a graph with a random number of vertices\n",
    "num_vertices = random.randint(5, 10)\n",
    "g = Graph(num_vertices)\n",
    "\n",
    "# Randomly add some edges to the graph\n",
    "for _ in range(random.randint(1, 5) * num_vertices):  # Adjust the range for number of edges\n",
    "    src, dest = random.sample(range(num_vertices), 2)\n",
    "    g.add_edge(src, dest)\n",
    "\n",
    "# Print the graph\n",
    "g.print_graph()"
   ]
  },
  {
   "cell_type": "code",
   "execution_count": null,
   "metadata": {},
   "outputs": [],
   "source": [
    "class Node:\n",
    "    \"\"\"Class to represent a node in a linked list.\"\"\"\n",
    "\n",
    "    def __init__(self, data):\n",
    "        self.data = data  # Assign the data\n",
    "        self.next = None  # Initialize the next as null\n",
    "\n",
    "\n",
    "class LinkedList:\n",
    "    \"\"\"Class to represent the entire linked list.\"\"\"\n",
    "\n",
    "    def __init__(self):\n",
    "        self.head = None  # Initialize the head of the list as null\n",
    "\n",
    "    def append(self, data):\n",
    "        \"\"\"Method to append a new node at the end of the linked list.\"\"\"\n",
    "        new_node = Node(data)\n",
    "        if self.head is None:\n",
    "            self.head = new_node\n",
    "            return\n",
    "        last = self.head\n",
    "        while last.next:\n",
    "            last = last.next\n",
    "        last.next = new_node\n",
    "\n",
    "    def print_list(self):\n",
    "        \"\"\"Method to print the linked list.\"\"\"\n",
    "        current_node = self.head\n",
    "        while current_node:\n",
    "            print(current_node.data, end=\" -> \")\n",
    "            current_node = current_node.next\n",
    "        print(\"None\")\n",
    "\n",
    "\n",
    "# Example usage:\n",
    "# Create a linked list and append some items\n",
    "llist = LinkedList()\n",
    "llist.append(1)\n",
    "llist.append(2)\n",
    "llist.append(3)\n",
    "\n",
    "# Print the linked list\n",
    "llist.print_list()"
   ]
  }
 ],
 "metadata": {
  "kernelspec": {
   "display_name": "base",
   "language": "python",
   "name": "python3"
  },
  "language_info": {
   "codemirror_mode": {
    "name": "ipython",
    "version": 3
   },
   "file_extension": ".py",
   "mimetype": "text/x-python",
   "name": "python",
   "nbconvert_exporter": "python",
   "pygments_lexer": "ipython3",
   "version": "3.11.4"
  }
 },
 "nbformat": 4,
 "nbformat_minor": 2
}
